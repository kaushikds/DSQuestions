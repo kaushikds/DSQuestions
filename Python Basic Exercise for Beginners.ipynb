{
 "cells": [
  {
   "cell_type": "markdown",
   "metadata": {},
   "source": [
    "# 1. Python Basic Exercise for Beginners"
   ]
  },
  {
   "cell_type": "markdown",
   "metadata": {},
   "source": [
    "## Question 1: Given a two integer numbers return their product and  if the product is greater than 1000, then return their sum"
   ]
  },
  {
   "cell_type": "markdown",
   "metadata": {},
   "source": [
    "### Expected Output: The result is 600"
   ]
  },
  {
   "cell_type": "code",
   "execution_count": 1,
   "metadata": {},
   "outputs": [
    {
     "data": {
      "text/plain": [
       "600"
      ]
     },
     "execution_count": 1,
     "metadata": {},
     "output_type": "execute_result"
    }
   ],
   "source": [
    "def sum_product(first, second):\n",
    "    if (first * second) >= 1000:\n",
    "        return first + second\n",
    "    else:\n",
    "        return first * second\n",
    "\n",
    "number1 = 20\n",
    "number2 = 30\n",
    "\n",
    "sum_product(number1, number2)"
   ]
  },
  {
   "cell_type": "markdown",
   "metadata": {},
   "source": [
    "## Question 2: Given a range of first 10 numbers, Iterate from start number to the end number and print the sum of the current number and previous number"
   ]
  },
  {
   "cell_type": "markdown",
   "metadata": {},
   "source": [
    "### Expected Output:\n",
    "Printing current and previous number sum in a given range(10)\n",
    "Current Number 0 Previous Number  0  Sum:  0\n",
    "Current Number 1 Previous Number  0  Sum:  1\n",
    "Current Number 2 Previous Number  1  Sum:  3\n",
    "Current Number 3 Previous Number  2  Sum:  5\n",
    "Current Number 4 Previous Number  3  Sum:  7\n",
    "Current Number 5 Previous Number  4  Sum:  9\n",
    "Current Number 6 Previous Number  5  Sum:  11\n",
    "Current Number 7 Previous Number  6  Sum:  13\n",
    "Current Number 8 Previous Number  7  Sum:  15\n",
    "Current Number 9 Previous Number  8  Sum:  17"
   ]
  },
  {
   "cell_type": "code",
   "execution_count": 2,
   "metadata": {},
   "outputs": [
    {
     "name": "stdout",
     "output_type": "stream",
     "text": [
      "Printing the sum of the current and previous number in the given range:\n",
      "Current Number (0) + Previous Number (0) = Sum (0)\n",
      "Current Number (1) + Previous Number (0) = Sum (1)\n",
      "Current Number (2) + Previous Number (1) = Sum (3)\n",
      "Current Number (3) + Previous Number (2) = Sum (5)\n",
      "Current Number (4) + Previous Number (3) = Sum (7)\n",
      "Current Number (5) + Previous Number (4) = Sum (9)\n",
      "Current Number (6) + Previous Number (5) = Sum (11)\n",
      "Current Number (7) + Previous Number (6) = Sum (13)\n",
      "Current Number (8) + Previous Number (7) = Sum (15)\n",
      "Current Number (9) + Previous Number (8) = Sum (17)\n"
     ]
    }
   ],
   "source": [
    "first_10_numbers = list(range(10))\n",
    "\n",
    "# print(first_10_numbers)\n",
    "\n",
    "def sums(list):\n",
    "    previous = 0\n",
    "    print(\"Printing the sum of the current and previous number in the given range:\")\n",
    "    for current in list:\n",
    "        # Calculate the sum of the current number and the previous number\n",
    "        sum = current + previous\n",
    "        print(f\"Current Number ({current}) + Previous Number ({previous}) = Sum ({sum})\")\n",
    "        \n",
    "        # Update previous number so that the loop can start again\n",
    "        previous = current\n",
    "\n",
    "sums(first_10_numbers)"
   ]
  },
  {
   "cell_type": "markdown",
   "metadata": {},
   "source": [
    "## Question 3: Given a string, display only those characters which are present at an even index number."
   ]
  },
  {
   "cell_type": "markdown",
   "metadata": {},
   "source": [
    "### Expected Output:\n",
    "Orginal String is  pynative\n",
    "Printing only even index chars\n",
    "p\n",
    "n\n",
    "t\n",
    "v"
   ]
  },
  {
   "cell_type": "code",
   "execution_count": 3,
   "metadata": {},
   "outputs": [
    {
     "name": "stdout",
     "output_type": "stream",
     "text": [
      "Displaying letters whose index numbers are even:\n",
      "['p', 'n', 't', 'v']\n"
     ]
    }
   ],
   "source": [
    "string = \"pynative\"\n",
    "\n",
    "def even_only(str):\n",
    "    \n",
    "    even_indexes = []\n",
    "    for letter in str:\n",
    "        if letter in str[::2]:\n",
    "            even_indexes.append(letter)\n",
    "    print(even_indexes)\n",
    "\n",
    "print(\"Displaying letters whose index numbers are even:\")\n",
    "even_only(string)"
   ]
  },
  {
   "cell_type": "markdown",
   "metadata": {},
   "source": [
    "## Question 4: Given a string and an integer number n, remove characters from a string starting from zero up to n and return a new string"
   ]
  },
  {
   "cell_type": "markdown",
   "metadata": {},
   "source": [
    "### Expected Output:\n",
    "For example, removeChars(\"pynative\", 4) so output must be tive. Note: n must be less than the length of the string."
   ]
  },
  {
   "cell_type": "code",
   "execution_count": 4,
   "metadata": {},
   "outputs": [
    {
     "name": "stdout",
     "output_type": "stream",
     "text": [
      "tive\n"
     ]
    }
   ],
   "source": [
    "string = \"pynative\"\n",
    "\n",
    "def short_string(string, n):\n",
    "    # Creating a new string with a selection of all letters after n\n",
    "    new_string = string[n:]\n",
    "    return new_string\n",
    "\n",
    "print(short_string(string, 4))"
   ]
  },
  {
   "cell_type": "markdown",
   "metadata": {},
   "source": [
    "## Question 5: Given a list of numbers, return True if first and last number of a list is same"
   ]
  },
  {
   "cell_type": "markdown",
   "metadata": {},
   "source": [
    "### Expected Output:\n",
    "Given list is  [10, 20, 30, 40, 10]\n",
    "result is True\n",
    "Given list is  [10, 20, 30, 40, 50]\n",
    "result is False"
   ]
  },
  {
   "cell_type": "code",
   "execution_count": 5,
   "metadata": {},
   "outputs": [
    {
     "name": "stdout",
     "output_type": "stream",
     "text": [
      "True\n"
     ]
    }
   ],
   "source": [
    "list1 = [10, 20, 30, 40, 50]\n",
    "list2 = [10, 20, 30, 40, 50]\n",
    "\n",
    "def list_comparer(l1, l2):\n",
    "    if (l1[0] == l2[0]) and (l1[-1] == l2[-1]):\n",
    "        return True\n",
    "    else:\n",
    "        return False\n",
    "\n",
    "print(list_comparer(list1, list2))"
   ]
  },
  {
   "cell_type": "markdown",
   "metadata": {},
   "source": [
    "## Question 6: Given a list of numbers, Iterate it and print only those numbers which are divisible of 5"
   ]
  },
  {
   "cell_type": "markdown",
   "metadata": {},
   "source": [
    "### Expected Output:\n",
    "Given list is  [10, 20, 33, 46, 55]\n",
    "Divisible of 5 in a list\n",
    "10\n",
    "20\n",
    "55"
   ]
  },
  {
   "cell_type": "code",
   "execution_count": 6,
   "metadata": {},
   "outputs": [
    {
     "name": "stdout",
     "output_type": "stream",
     "text": [
      "The following numbers in the list are divisible by 5:\n",
      "10\n",
      "20\n",
      "55\n"
     ]
    }
   ],
   "source": [
    "list1 = [10, 20, 33, 46, 55]\n",
    "\n",
    "def divisible_by_5(list):\n",
    "    print(\"The following numbers in the list are divisible by 5:\")\n",
    "    for number in list:\n",
    "        if number % 5 == 0:\n",
    "            print(number)\n",
    "            \n",
    "divisible_by_5(list1)"
   ]
  },
  {
   "cell_type": "markdown",
   "metadata": {},
   "source": [
    "## Question 7: Return the total count of sub-string “Emma” appears in the given string"
   ]
  },
  {
   "cell_type": "markdown",
   "metadata": {},
   "source": [
    "### Expected Output:\n",
    "Emma appeared 2 times"
   ]
  },
  {
   "cell_type": "code",
   "execution_count": 7,
   "metadata": {},
   "outputs": [
    {
     "name": "stdout",
     "output_type": "stream",
     "text": [
      "Emma appeared 2 times.\n"
     ]
    }
   ],
   "source": [
    "string = \"Emma is good developer. Emma is a writer\"\n",
    "substring = \"Emma\"\n",
    "\n",
    "print(f'{substring} appeared {string.count(substring)} times.')"
   ]
  },
  {
   "cell_type": "markdown",
   "metadata": {},
   "source": [
    "## Question 8: Print the following pattern\n",
    "### 1 \n",
    "\n",
    "### 2 2 \n",
    "\n",
    "### 3 3 3 \n",
    "\n",
    "### 4 4 4 4 \n",
    "\n",
    "### 5 5 5 5 5"
   ]
  },
  {
   "cell_type": "code",
   "execution_count": 37,
   "metadata": {},
   "outputs": [],
   "source": [
    "# Help!"
   ]
  },
  {
   "cell_type": "markdown",
   "metadata": {},
   "source": [
    "## Question 9: Reverse a given number and return true if it is the same as the original number"
   ]
  },
  {
   "cell_type": "markdown",
   "metadata": {},
   "source": [
    "### Expected Output:\n",
    "original number 121\n",
    "The original and reverse number is the same\n",
    "\n",
    "original number 125\n",
    "The original and reverse number is not same"
   ]
  },
  {
   "cell_type": "code",
   "execution_count": 11,
   "metadata": {},
   "outputs": [
    {
     "name": "stdout",
     "output_type": "stream",
     "text": [
      "Original Number: 202\n",
      "Reversed Number: 202\n",
      "Original Number and Reversed Number are the same.\n"
     ]
    }
   ],
   "source": [
    "def num_reverser(num):\n",
    "    \n",
    "    # Convert number into string\n",
    "    string_number = str(num)\n",
    "    \n",
    "    # Reverse the string, then convert the string back into an int\n",
    "    reversed = int(string_number[::-1])\n",
    "    \n",
    "    # Print the results\n",
    "    print(f\"Original Number: {num}\")\n",
    "    print(f\"Reversed Number: {reversed}\")\n",
    "    \n",
    "    # Print if the original number and reversed number are same or not\n",
    "    if number == reversed:\n",
    "        print(\"Original Number and Reversed Number are the same.\")\n",
    "    else:\n",
    "        print(\"Original Number and Reversed Number are not the same.\")\n",
    "\n",
    "number = 202\n",
    "num_reverser(number)"
   ]
  },
  {
   "cell_type": "markdown",
   "metadata": {},
   "source": [
    "## Question 10: Given a two list of numbers create a new list such that new list should contain only odd numbers from the first list and even numbers from the second list"
   ]
  },
  {
   "cell_type": "markdown",
   "metadata": {},
   "source": [
    "### Expected Output:\n",
    "First List  [10, 20, 23, 11, 17]\n",
    "Second List  [13, 43, 24, 36, 12]\n",
    "\n",
    "result List is [23, 11, 17, 24, 36, 12]"
   ]
  },
  {
   "cell_type": "code",
   "execution_count": 12,
   "metadata": {},
   "outputs": [
    {
     "name": "stdout",
     "output_type": "stream",
     "text": [
      "[23, 11, 17, 24, 36, 12]\n"
     ]
    }
   ],
   "source": [
    "def odd_and_even(list1, list2):\n",
    "    list3 = []\n",
    "    \n",
    "    # Save odd numbers from first list\n",
    "    for num in list1:\n",
    "        if num % 2 != 0:\n",
    "            list3.append(num)\n",
    "    \n",
    "    # Save even numbers from second list\n",
    "    for num in list2:\n",
    "        if num % 2 == 0:\n",
    "            list3.append(num)\n",
    "    \n",
    "    # Print the new list\n",
    "    print(list3)\n",
    "\n",
    "list1 = [10, 20, 23, 11, 17]\n",
    "list2 = [13, 43, 24, 36, 12]\n",
    "\n",
    "odd_and_even(list1, list2)"
   ]
  },
  {
   "cell_type": "markdown",
   "metadata": {},
   "source": [
    "## Question 11: Write a code to extract each digit from an integer, in the reverse order"
   ]
  },
  {
   "cell_type": "markdown",
   "metadata": {},
   "source": [
    "### Expected Output:\n",
    "For example, if the given int is 7536, the output shall be “6 3 5 7“, with a space separating the digits."
   ]
  },
  {
   "cell_type": "code",
   "execution_count": 39,
   "metadata": {},
   "outputs": [
    {
     "name": "stdout",
     "output_type": "stream",
     "text": [
      "6 3 5 7 "
     ]
    }
   ],
   "source": [
    "def reverse_digits(num):\n",
    "    \n",
    "    # Convert number into string\n",
    "    string_number = str(num)\n",
    "    \n",
    "    # Reverse the string and print each digit with a space\n",
    "    reversed = string_number[::-1]\n",
    "    for digit in reversed:\n",
    "        print(digit, end=\" \")\n",
    "    \n",
    "number = 7536\n",
    "reverse_digits(number)"
   ]
  },
  {
   "cell_type": "markdown",
   "metadata": {},
   "source": [
    "## Question 12: Calculate income tax for the given income by adhering to the below rules"
   ]
  },
  {
   "cell_type": "markdown",
   "metadata": {},
   "source": [
    "### Expected Output:\n",
    "For example, suppose that the taxable income is $45000 the income tax payable is\n",
    "\n",
    "10000 * 0% + 10000 * 10%  + 25000 * 20% = $6000."
   ]
  },
  {
   "cell_type": "markdown",
   "metadata": {},
   "source": [
    "| Taxable Income | Rate % |\n",
    "|----------------|--------|\n",
    "| First 10,000   | 0      |\n",
    "| Next 10,000    | 10     |\n",
    "| The remaining  | 20     |"
   ]
  },
  {
   "cell_type": "code",
   "execution_count": 52,
   "metadata": {},
   "outputs": [
    {
     "name": "stdout",
     "output_type": "stream",
     "text": [
      "Your income tax payable is: 13500.0\n"
     ]
    }
   ],
   "source": [
    "def income_tax(income):\n",
    "    tax_payable = 0\n",
    "    \n",
    "    if income <= 10000:\n",
    "        tax_payable = 0\n",
    "    elif income <= 20000:\n",
    "        tax_payable = (income * 0.00) + (income * 0.10)\n",
    "    elif income > 20000:\n",
    "        tax_payable = (income * 0.00) + (income * 0.10) + (income * 0.20)\n",
    "    \n",
    "    print(f\"Your income tax payable is: {tax_payable}\")\n",
    "\n",
    "income_tax(45000)\n",
    "\n",
    "#HELP!"
   ]
  },
  {
   "cell_type": "markdown",
   "metadata": {},
   "source": [
    "## Question 13: Print multiplication table from 1 to 10"
   ]
  },
  {
   "cell_type": "markdown",
   "metadata": {},
   "source": [
    "### Expected Output:\n",
    "1  2 3 4 5 6 7 8 9 10 \t\t\n",
    "2  4 6 8 10 12 14 16 18 20 \t\t\n",
    "3  6 9 12 15 18 21 24 27 30 \t\t\n",
    "4  8 12 16 20 24 28 32 36 40 \t\t\n",
    "5  10 15 20 25 30 35 40 45 50 \t\t\n",
    "6  12 18 24 30 36 42 48 54 60 \t\t\n",
    "7  14 21 28 35 42 49 56 63 70 \t\t\n",
    "8  16 24 32 40 48 56 64 72 80 \t\t\n",
    "9  18 27 36 45 54 63 72 81 90 \t\t\n",
    "10 20 30 40 50 60 70 80 90 100"
   ]
  },
  {
   "cell_type": "code",
   "execution_count": 34,
   "metadata": {},
   "outputs": [],
   "source": [
    "# HELP!"
   ]
  },
  {
   "cell_type": "markdown",
   "metadata": {},
   "source": [
    "## Question 14: Print downward Half-Pyramid Pattern with Star (asterisk)"
   ]
  },
  {
   "cell_type": "markdown",
   "metadata": {},
   "source": [
    "### Expected Output:\n",
    "# * * * * *  \n",
    "# * * * *  \n",
    "# * * *  \n",
    "# * *  \n",
    "# *"
   ]
  },
  {
   "cell_type": "code",
   "execution_count": 35,
   "metadata": {},
   "outputs": [],
   "source": [
    "# HELP!"
   ]
  },
  {
   "cell_type": "markdown",
   "metadata": {},
   "source": [
    "## Question 15: Write a function called exponent(base, exp) that returns an int value of base raised to the power of exp."
   ]
  },
  {
   "cell_type": "markdown",
   "metadata": {},
   "source": [
    "### Expected Output:\n",
    "base = 2\n",
    "exponent = 5\n",
    "\n",
    "2 raises to the power of 5 is: 32 i.e. (2 *2 * 2 *2 *2 = 32)"
   ]
  },
  {
   "cell_type": "code",
   "execution_count": 53,
   "metadata": {},
   "outputs": [
    {
     "name": "stdout",
     "output_type": "stream",
     "text": [
      "32\n"
     ]
    }
   ],
   "source": [
    "def exponent(base, exp):\n",
    "    powers = base ** exp\n",
    "    return powers\n",
    "\n",
    "print(exponent(2,5))"
   ]
  },
  {
   "cell_type": "code",
   "execution_count": null,
   "metadata": {},
   "outputs": [],
   "source": []
  }
 ],
 "metadata": {
  "kernelspec": {
   "display_name": "Python 3",
   "language": "python",
   "name": "python3"
  },
  "language_info": {
   "codemirror_mode": {
    "name": "ipython",
    "version": 3
   },
   "file_extension": ".py",
   "mimetype": "text/x-python",
   "name": "python",
   "nbconvert_exporter": "python",
   "pygments_lexer": "ipython3",
   "version": "3.7.4"
  }
 },
 "nbformat": 4,
 "nbformat_minor": 2
}
