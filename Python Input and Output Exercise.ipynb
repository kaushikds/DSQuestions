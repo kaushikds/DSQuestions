{
 "cells": [
  {
   "cell_type": "markdown",
   "metadata": {},
   "source": [
    "# Python Input and Output Exercise"
   ]
  },
  {
   "cell_type": "markdown",
   "metadata": {},
   "source": [
    "## Question 1: Accept two numbers from the user and calculate multiplication"
   ]
  },
  {
   "cell_type": "code",
   "execution_count": 3,
   "metadata": {},
   "outputs": [
    {
     "name": "stdout",
     "output_type": "stream",
     "text": [
      "Please enter the first number: 5\n",
      "Please enter the second number: 5\n",
      "25\n"
     ]
    }
   ],
   "source": [
    "num1 = int(input(\"Please enter the first number: \"))\n",
    "num2 = int(input(\"Please enter the second number: \"))\n",
    "\n",
    "print(num1 * num2)"
   ]
  },
  {
   "cell_type": "markdown",
   "metadata": {},
   "source": [
    "## Question 2: Display “My Name Is James” as “My**Name**Is**James” using output formatting of a print() function"
   ]
  },
  {
   "cell_type": "markdown",
   "metadata": {},
   "source": [
    "### Expected Output:\n",
    "Use print() statement formatting to display ** separator between each word.\n",
    "\n",
    "For example: print('My', 'Name', 'Is', 'James') will display MyNameIsJames\n",
    "\n",
    "So use one of the formatting argument of print() to turn the output into My**Name**Is**James"
   ]
  },
  {
   "cell_type": "code",
   "execution_count": 13,
   "metadata": {},
   "outputs": [
    {
     "name": "stdout",
     "output_type": "stream",
     "text": [
      "MyNameIs**James\n"
     ]
    }
   ],
   "source": [
    "string = 'My Name Is James'\n",
    "\n",
    "splitted_string = string.split()\n",
    "\n",
    "print(f\"{splitted_string[0] + splitted_string[1] + splitted_string[2]}**{splitted_string[3]}\")"
   ]
  },
  {
   "cell_type": "markdown",
   "metadata": {},
   "source": [
    "## Question 3: Convert decimal number to octal using print() output formatting"
   ]
  },
  {
   "cell_type": "markdown",
   "metadata": {},
   "source": [
    "### Expected Output:\n",
    "Display decimal number 8 as 10"
   ]
  },
  {
   "cell_type": "code",
   "execution_count": 14,
   "metadata": {},
   "outputs": [],
   "source": [
    "# Help! I don't understand the question!"
   ]
  },
  {
   "cell_type": "markdown",
   "metadata": {},
   "source": [
    "## Question 4: Display float number with 2 decimal places using print()"
   ]
  },
  {
   "cell_type": "markdown",
   "metadata": {},
   "source": [
    "### Expected Output:\n",
    "Display 458.541315 as 458.54"
   ]
  },
  {
   "cell_type": "code",
   "execution_count": 16,
   "metadata": {},
   "outputs": [
    {
     "name": "stdout",
     "output_type": "stream",
     "text": [
      "458.54\n"
     ]
    }
   ],
   "source": [
    "number = 458.541315\n",
    "\n",
    "print(\"{:.2f}\".format(number))"
   ]
  },
  {
   "cell_type": "markdown",
   "metadata": {},
   "source": [
    "## Question 5: Accept list of 5 float numbers as a input from user"
   ]
  },
  {
   "cell_type": "markdown",
   "metadata": {},
   "source": [
    "### Expected Output:\n",
    "Numbers can be any\n",
    "\n",
    "[78.6, 78.6, 85.3, 1.2, 3.5]"
   ]
  },
  {
   "cell_type": "code",
   "execution_count": 24,
   "metadata": {},
   "outputs": [
    {
     "name": "stdout",
     "output_type": "stream",
     "text": [
      "[78.6, 78.6, 85.3, 1.2, 3.5]\n",
      "<class 'float'>\n"
     ]
    }
   ],
   "source": [
    "def float_taker(f1, f2, f3, f4, f5):\n",
    "    floats = [float(f1), float(f2), float(f3), float(f4), float(f5)]\n",
    "    print(floats)\n",
    "    print(type(floats[0]))\n",
    "    \n",
    "float_taker(78.6, 78.6, 85.3, 1.2, 3.5)"
   ]
  },
  {
   "cell_type": "markdown",
   "metadata": {},
   "source": [
    "## Question 6: Write all file content into new file by skiping line 5 from following file"
   ]
  },
  {
   "cell_type": "markdown",
   "metadata": {},
   "source": [
    "### Expected Output:\n",
    "test.txt file:\n",
    "\n",
    "line1\n",
    "line2\n",
    "line3\n",
    "line4\n",
    "line5\n",
    "line6\n",
    "line7\n",
    "\n",
    "newFile.txt should be\n",
    "\n",
    "line1\n",
    "line2\n",
    "line3\n",
    "line4\n",
    "line6\n",
    "line7"
   ]
  },
  {
   "cell_type": "code",
   "execution_count": 45,
   "metadata": {},
   "outputs": [
    {
     "name": "stdout",
     "output_type": "stream",
     "text": [
      "['line1\\n', 'line2\\n', 'line3\\n', 'line4\\n', 'line6\\n', 'line7\\n']\n"
     ]
    }
   ],
   "source": [
    "original_filename = 'test.txt'\n",
    "new_file = 'newFile.txt'\n",
    "\n",
    "with open(original_filename) as f:\n",
    "    all_lines = f.readlines()\n",
    "\n",
    "with open(new_file, 'a') as f:\n",
    "    for line in all_lines:\n",
    "        if line != 'line5\\n':\n",
    "            f.write(line)\n",
    "\n",
    "with open(new_file) as f:\n",
    "    print(f.readlines())"
   ]
  },
  {
   "cell_type": "markdown",
   "metadata": {},
   "source": [
    "## Question 7: Accept any three string from one input() call"
   ]
  },
  {
   "cell_type": "code",
   "execution_count": 47,
   "metadata": {},
   "outputs": [
    {
     "name": "stdout",
     "output_type": "stream",
     "text": [
      "Enter 3 strings: Hello my name\n",
      "Hello my name\n"
     ]
    }
   ],
   "source": [
    "string1, string2, string3 = input(\"Enter 3 strings: \").split()\n",
    "print(string1, string2, string3)"
   ]
  },
  {
   "cell_type": "markdown",
   "metadata": {},
   "source": [
    "## Question 8: You have the following data:\n",
    "totalMoney = 1000\n",
    "quantity = 3\n",
    "price = 450"
   ]
  },
  {
   "cell_type": "markdown",
   "metadata": {},
   "source": [
    "### display above data using string.format() method"
   ]
  },
  {
   "cell_type": "markdown",
   "metadata": {},
   "source": [
    "### Expected Output:\n",
    "I have 1000 dollars so I can buy 3 football for 450.00 dollars."
   ]
  },
  {
   "cell_type": "code",
   "execution_count": 59,
   "metadata": {},
   "outputs": [
    {
     "name": "stdout",
     "output_type": "stream",
     "text": [
      "I have 1000 so I can buy 3 football for 450.00 dollars.\n"
     ]
    }
   ],
   "source": [
    "totalMoney = 1000\n",
    "quantity = 3\n",
    "price = 450\n",
    "\n",
    "print(f\"I have {totalMoney} so I can buy {quantity} football for {format(price, '.2f')} dollars.\")"
   ]
  },
  {
   "cell_type": "markdown",
   "metadata": {},
   "source": [
    "## Question 9: How to check file is empty or not"
   ]
  },
  {
   "cell_type": "code",
   "execution_count": 60,
   "metadata": {},
   "outputs": [],
   "source": [
    "# HELP!"
   ]
  },
  {
   "cell_type": "markdown",
   "metadata": {},
   "source": [
    "## Question 10: Read line number 4 from the following file"
   ]
  },
  {
   "cell_type": "markdown",
   "metadata": {},
   "source": [
    "line1\n",
    "line2\n",
    "line3\n",
    "line4\n",
    "line5\n",
    "line6\n",
    "line7"
   ]
  },
  {
   "cell_type": "code",
   "execution_count": 64,
   "metadata": {},
   "outputs": [
    {
     "name": "stdout",
     "output_type": "stream",
     "text": [
      "line4\n",
      "\n"
     ]
    }
   ],
   "source": [
    "filename = 'q10_test.txt'\n",
    "\n",
    "with open(filename) as f:\n",
    "    lines = f.readlines()\n",
    "    print(lines[3])"
   ]
  },
  {
   "cell_type": "code",
   "execution_count": null,
   "metadata": {},
   "outputs": [],
   "source": []
  }
 ],
 "metadata": {
  "kernelspec": {
   "display_name": "Python 3",
   "language": "python",
   "name": "python3"
  },
  "language_info": {
   "codemirror_mode": {
    "name": "ipython",
    "version": 3
   },
   "file_extension": ".py",
   "mimetype": "text/x-python",
   "name": "python",
   "nbconvert_exporter": "python",
   "pygments_lexer": "ipython3",
   "version": "3.7.4"
  }
 },
 "nbformat": 4,
 "nbformat_minor": 2
}
