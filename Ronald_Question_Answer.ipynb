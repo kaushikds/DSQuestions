{
 "cells": [
  {
   "cell_type": "markdown",
   "metadata": {},
   "source": [
    "# Python Questions from ronald.txt"
   ]
  },
  {
   "cell_type": "markdown",
   "metadata": {},
   "source": [
    "## 1. Write a program to check if the letter 'e' is present in the word 'Umbrella'."
   ]
  },
  {
   "cell_type": "code",
   "execution_count": 105,
   "metadata": {},
   "outputs": [
    {
     "name": "stdout",
     "output_type": "stream",
     "text": [
      "True\n"
     ]
    }
   ],
   "source": [
    "if 'e' in 'Umbrella':\n",
    "    print(True)"
   ]
  },
  {
   "cell_type": "markdown",
   "metadata": {},
   "source": [
    "## 2. Write a program to check if the word 'orange' is present in the \"This is orange juice\"."
   ]
  },
  {
   "cell_type": "code",
   "execution_count": 106,
   "metadata": {},
   "outputs": [
    {
     "name": "stdout",
     "output_type": "stream",
     "text": [
      "True\n"
     ]
    }
   ],
   "source": [
    "if 'orange' in 'This is orange juice':\n",
    "    print(True)"
   ]
  },
  {
   "cell_type": "markdown",
   "metadata": {},
   "source": [
    "## 3. Write a program that takes your full name as input and displays the abbreviations of the first and middle names except the last name which is displayed as it is.\n",
    "## For example, if your name is Robert Brett Roser, then the output should be R.B.Roser."
   ]
  },
  {
   "cell_type": "code",
   "execution_count": 107,
   "metadata": {},
   "outputs": [
    {
     "name": "stdout",
     "output_type": "stream",
     "text": [
      "Please enter your first name, middle name and last name: Kaushik Saurav Chatterjee\n",
      "K.S.Chatterjee\n"
     ]
    }
   ],
   "source": [
    "name = input(\"Please enter your first name, middle name and last name: \")\n",
    "splitted_name = name.split()\n",
    "\n",
    "first_letter = splitted_name[0][0]\n",
    "second_letter = splitted_name[1][0]\n",
    "last_name = splitted_name[2]\n",
    "\n",
    "print(f\"{first_letter}.{second_letter}.{last_name}\")"
   ]
  },
  {
   "cell_type": "markdown",
   "metadata": {},
   "source": [
    "## 4. Write a program to find the number of vowels, consonents, digits and white space characters in a string."
   ]
  },
  {
   "cell_type": "code",
   "execution_count": 108,
   "metadata": {},
   "outputs": [
    {
     "name": "stdout",
     "output_type": "stream",
     "text": [
      "Vowels: 9\n",
      "Consonents: 15\n",
      "Digits: 3\n",
      "Whitespace: 4\n",
      "Total: 31\n"
     ]
    }
   ],
   "source": [
    "vowels = ['a', 'e', 'i', 'o', 'u']\n",
    "digits_as_string = ['0', '1', '2', '3', '4', '5', '6', '7', '8', '9']\n",
    "\n",
    "found_vowels = 0\n",
    "found_consonents = 0\n",
    "found_digits = 0\n",
    "found_whitespace = 0\n",
    "\n",
    "string = \"Sachin has scored 100 centuries\"\n",
    "\n",
    "for letter in string:\n",
    "    if letter == \" \":\n",
    "        found_whitespace +=1\n",
    "    elif letter in digits:\n",
    "        found_digits += 1\n",
    "    elif letter in vowels:\n",
    "        found_vowels += 1\n",
    "    else:\n",
    "        found_consonents += 1\n",
    "\n",
    "print(f\"Vowels: {found_vowels}\")\n",
    "print(f\"Consonents: {found_consonents}\")\n",
    "print(f\"Digits: {found_digits}\")\n",
    "print(f\"Whitespace: {found_whitespace}\")\n",
    "print(f\"Total: {found_vowels + found_consonents + found_digits + found_whitespace}\")"
   ]
  },
  {
   "cell_type": "markdown",
   "metadata": {},
   "source": [
    "## 5. Find the index of the first occurrence of a substring in a string"
   ]
  },
  {
   "cell_type": "code",
   "execution_count": 109,
   "metadata": {},
   "outputs": [
    {
     "name": "stdout",
     "output_type": "stream",
     "text": [
      "There were no occurrences of \"car\" in the string \"The world's fastest plane\".\n"
     ]
    }
   ],
   "source": [
    "string = \"The world's fastest plane\"\n",
    "substring = 'car'\n",
    "\n",
    "first_occurrence_index = string.find(substring)\n",
    "if first_occurrence_index == -1:\n",
    "    print(f\"There were no occurrences of \\\"{substring}\\\" in the string \\\"{string}\\\".\")\n",
    "else:\n",
    "    print(f\"The substring \\\"{substring}\\\" occurs for the first time at the index: {first_occurrence_index}.\")"
   ]
  },
  {
   "cell_type": "markdown",
   "metadata": {},
   "source": [
    "## 6. Count the total number of characters in a string\n",
    "### 6.1 Count the number of a specific character ‘a’ in the string"
   ]
  },
  {
   "cell_type": "code",
   "execution_count": 110,
   "metadata": {},
   "outputs": [
    {
     "name": "stdout",
     "output_type": "stream",
     "text": [
      "784\n",
      "The character 'a' is in the above string 42 times.\n"
     ]
    }
   ],
   "source": [
    "string = 'A president is a leader of an organization, company, community, club, trade union, university or other group.The relationship between a president and a chief executive officer varies, depending on the structure of the specific organization. In a similar vein to a chief operating officer, the title of corporate president as a separate position (as opposed to being combined with a \"C-suite\" designation, such as \"president and chief executive officer\" or \"president and chief operating officer\") is also loosely defined; the president is usually the legally recognized highest rank of corporate officer, ranking above the various vice presidents (including senior vice president and executive vice president), but on its own generally considered subordinate, in practice, to the CEO.'\n",
    "\n",
    "print(len(string))\n",
    "\n",
    "print(f\"The character 'a' is in the above string {string.count('a')} times.\")"
   ]
  },
  {
   "cell_type": "markdown",
   "metadata": {},
   "source": [
    "## 7. Given 2 strings, s1 and s2, create a new string by appending s2 in the middle of s1"
   ]
  },
  {
   "cell_type": "code",
   "execution_count": 111,
   "metadata": {},
   "outputs": [
    {
     "name": "stdout",
     "output_type": "stream",
     "text": [
      "AuKellylt\n"
     ]
    }
   ],
   "source": [
    "s1 = \"Ault\"\n",
    "s2 = \"Kelly\"\n",
    "\n",
    "print(s1[:2] + s2 + s1[2:])"
   ]
  },
  {
   "cell_type": "markdown",
   "metadata": {},
   "source": [
    "## 8. Given a Python list you should be able to display Python list in the following order"
   ]
  },
  {
   "cell_type": "code",
   "execution_count": 112,
   "metadata": {},
   "outputs": [
    {
     "name": "stdout",
     "output_type": "stream",
     "text": [
      "[500, 400, 300, 200, 100]\n"
     ]
    }
   ],
   "source": [
    "aLsit = [100, 200, 300, 400, 500]\n",
    "reversed_aLsit = aLsit[::-1]\n",
    "print(reversed_aLsit)"
   ]
  },
  {
   "cell_type": "markdown",
   "metadata": {},
   "source": [
    "## 9. Add item 7000 after 6000 in the following Python List"
   ]
  },
  {
   "cell_type": "code",
   "execution_count": 113,
   "metadata": {},
   "outputs": [
    {
     "name": "stdout",
     "output_type": "stream",
     "text": [
      "[10, 20, [300, 400, [5000, 6000, 7000], 500], 30, 40]\n"
     ]
    }
   ],
   "source": [
    "list1 = [10, 20, [300, 400, [5000, 6000], 500], 30, 40]\n",
    "list1[2][2].append(7000)\n",
    "print(list1)"
   ]
  },
  {
   "cell_type": "markdown",
   "metadata": {},
   "source": [
    "## 10. Given a two list. Create a third list by picking an odd-index element from the first list and even index elements from second."
   ]
  },
  {
   "cell_type": "code",
   "execution_count": 114,
   "metadata": {},
   "outputs": [
    {
     "name": "stdout",
     "output_type": "stream",
     "text": [
      "[6, 12, 18, 4, 12, 20, 28]\n"
     ]
    }
   ],
   "source": [
    "listOne = [3, 6, 9, 12, 15, 18, 21]\n",
    "listTwo = [4, 8, 12, 16, 20, 24, 28]\n",
    "\n",
    "listThree = listOne[1::2] + listTwo[0::2]\n",
    "\n",
    "print(listThree)"
   ]
  },
  {
   "cell_type": "markdown",
   "metadata": {},
   "source": [
    "## 11. Given an input list removes the element at index 4 and add it to the 2nd position and also, at the end of the list"
   ]
  },
  {
   "cell_type": "code",
   "execution_count": 115,
   "metadata": {},
   "outputs": [
    {
     "name": "stdout",
     "output_type": "stream",
     "text": [
      "[54, 44, 91, 27, 79, 41, 91]\n"
     ]
    }
   ],
   "source": [
    "list = [54, 44, 27, 79, 91, 41]\n",
    "element = list.pop(4)\n",
    "list.insert(2, element)\n",
    "list.append(element)\n",
    "print(list)"
   ]
  },
  {
   "cell_type": "code",
   "execution_count": null,
   "metadata": {},
   "outputs": [],
   "source": []
  }
 ],
 "metadata": {
  "kernelspec": {
   "display_name": "Python 3",
   "language": "python",
   "name": "python3"
  },
  "language_info": {
   "codemirror_mode": {
    "name": "ipython",
    "version": 3
   },
   "file_extension": ".py",
   "mimetype": "text/x-python",
   "name": "python",
   "nbconvert_exporter": "python",
   "pygments_lexer": "ipython3",
   "version": "3.7.4"
  }
 },
 "nbformat": 4,
 "nbformat_minor": 2
}
